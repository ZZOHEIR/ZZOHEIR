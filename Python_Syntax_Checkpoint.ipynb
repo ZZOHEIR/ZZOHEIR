{
  "nbformat": 4,
  "nbformat_minor": 0,
  "metadata": {
    "colab": {
      "provenance": [],
      "authorship_tag": "ABX9TyPNclyN4vFgs7xLPm1NFFAM",
      "include_colab_link": true
    },
    "kernelspec": {
      "name": "python3",
      "display_name": "Python 3"
    },
    "language_info": {
      "name": "python"
    }
  },
  "cells": [
    {
      "cell_type": "markdown",
      "metadata": {
        "id": "view-in-github",
        "colab_type": "text"
      },
      "source": [
        "<a href=\"https://colab.research.google.com/github/ZZOHEIR/ZZOHEIR/blob/main/Python_Syntax_Checkpoint.ipynb\" target=\"_parent\"><img src=\"https://colab.research.google.com/assets/colab-badge.svg\" alt=\"Open In Colab\"/></a>"
      ]
    },
    {
      "cell_type": "markdown",
      "source": [
        "What You're Aiming For\n",
        "Congratulations, you've got a job at Python Pizza. Your first job is to build an automatic pizza order program. Based on a user's order, work out their final bill.\n",
        " ``` Small Pizza: $15 ``` ```\n",
        "``` Medium Pizza: $20 ```\n",
        "``` Large Pizza: $25 ```\n",
        "If they want to add pepperoni :\n",
        "``` Pepperoni for Small Pizza: +$2 ```\n",
        "``` Pepperoni for Medium or Large Pizza: +$3 ```\n",
        "If they want cheese :\n",
        " ``` Extra cheese for any size pizza: + $1 ```\n",
        "Instructions\n",
        "Open a new file in your Python development environment or IDE.\n",
        "Begin by typing the line 'Welcome to Python Pizza Deliveries' which will display a welcome message when the code is run.\n",
        "Add a line that prompts the user for the size of the pizza they want using the input() function and stores the user's input in a variable named 'size'.\n",
        "Add a line that prompts the user if they want pepperoni on their pizza using the input() function and stores the user's input in a variable named 'add_pepperoni'.\n",
        "Add a line that prompts the user if they want extra cheese on their pizza using the input() function and stores the user's input in a variable named 'extra_cheese'.\n",
        "Check your code for any syntax errors or mistakes.\n",
        "Run the code and test it by providing inputs for size, pepperoni, and extra cheese.\n",
        "Example Input\n",
        "size = \"L\"\n",
        "add_pepperoni = \"Y\"\n",
        "extra_cheese = \"N\"\n",
        "Example Output\n",
        "Your final bill is: $28.\n",
        "When you hit **run**, this is what should happen"
      ],
      "metadata": {
        "id": "h7ZN6cuyO66e"
      }
    },
    {
      "cell_type": "code",
      "source": [
        "print(\"Welcome to Python Pizza Deliveries\")\n",
        "\n",
        "bill = 0\n",
        "size = input(\"What size pizza do you want? S, M, or L: \").upper()\n",
        "add_pepperoni = input(\"Do you want pepperoni? Y or N: \").upper()\n",
        "extra_cheese = input(\"Do you want extra cheese? Y or N: \").upper()\n",
        "\n",
        "if size == \"S\":\n",
        "    bill += 15\n",
        "elif size == \"M\":\n",
        "    bill += 20\n",
        "elif size == \"L\":\n",
        "    bill += 25\n",
        "\n",
        "if add_pepperoni == \"Y\":\n",
        "    if size == \"S\":\n",
        "        bill += 2\n",
        "    else:\n",
        "        bill += 3\n",
        "\n",
        "if extra_cheese == \"Y\":\n",
        "    bill += 1\n",
        "\n",
        "print(f\"Your final bill is: ${bill}\")\n"
      ],
      "metadata": {
        "colab": {
          "base_uri": "https://localhost:8080/"
        },
        "id": "8ol8vG45UsUx",
        "outputId": "c785ff75-6283-41e0-b256-46a77d697d46"
      },
      "execution_count": 24,
      "outputs": [
        {
          "output_type": "stream",
          "name": "stdout",
          "text": [
            "Welcome to Python Pizza Deliveries\n",
            "What size pizza do you want? S, M, or L: M\n",
            "Do you want pepperoni? Y or N: N\n",
            "Do you want extra cheese? Y or N: Y\n",
            "Your final bill is: $21\n"
          ]
        }
      ]
    }
  ]
}