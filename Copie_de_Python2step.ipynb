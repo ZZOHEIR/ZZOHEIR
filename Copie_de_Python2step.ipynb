{
  "nbformat": 4,
  "nbformat_minor": 0,
  "metadata": {
    "colab": {
      "provenance": [],
      "authorship_tag": "ABX9TyNObjm1XX7CBCxmmBJt+3a8",
      "include_colab_link": true
    },
    "kernelspec": {
      "name": "python3",
      "display_name": "Python 3"
    },
    "language_info": {
      "name": "python"
    }
  },
  "cells": [
    {
      "cell_type": "markdown",
      "metadata": {
        "id": "view-in-github",
        "colab_type": "text"
      },
      "source": [
        "<a href=\"https://colab.research.google.com/github/ZZOHEIR/ZZOHEIR/blob/main/Copie_de_Python2step.ipynb\" target=\"_parent\"><img src=\"https://colab.research.google.com/assets/colab-badge.svg\" alt=\"Open In Colab\"/></a>"
      ]
    },
    {
      "cell_type": "code",
      "execution_count": null,
      "metadata": {
        "colab": {
          "base_uri": "https://localhost:8080/"
        },
        "id": "MVJvUGBSFOXW",
        "outputId": "bf25ed16-037a-48ab-c5ac-26c8f76a169f"
      },
      "outputs": [
        {
          "output_type": "stream",
          "name": "stdout",
          "text": [
            "5\n",
            "<class 'int'>\n",
            "<class 'bool'>\n"
          ]
        }
      ],
      "source": [
        "x = 5\n",
        "print (x)\n",
        "print (type(x))\n",
        "print(type (y))\n",
        "y= True"
      ]
    },
    {
      "cell_type": "markdown",
      "source": [
        "**Multiple Values to multiple variables**\n"
      ],
      "metadata": {
        "id": "HYEthhVcXjxX"
      }
    },
    {
      "cell_type": "code",
      "source": [
        "a = 5\n",
        "b = 3.2\n",
        "c = 'hello'\n",
        "print (a)\n",
        "print (b)\n",
        "print (c)"
      ],
      "metadata": {
        "colab": {
          "base_uri": "https://localhost:8080/"
        },
        "id": "tDed73vQXibH",
        "outputId": "98a0706b-3f9c-4422-c0a4-a4d6bf5dffe4"
      },
      "execution_count": null,
      "outputs": [
        {
          "output_type": "stream",
          "name": "stdout",
          "text": [
            "5\n",
            "3.2\n",
            "hello\n"
          ]
        }
      ]
    },
    {
      "cell_type": "code",
      "source": [
        "a, b, c = 5, 3.2, 'hello'\n",
        "print (a, b, c)"
      ],
      "metadata": {
        "colab": {
          "base_uri": "https://localhost:8080/"
        },
        "id": "U6b9eTTNX62k",
        "outputId": "69f6f347-ad99-46ca-aea3-21895d6d4f76"
      },
      "execution_count": null,
      "outputs": [
        {
          "output_type": "stream",
          "name": "stdout",
          "text": [
            "5 3.2 hello\n"
          ]
        }
      ]
    },
    {
      "cell_type": "code",
      "source": [
        "x = y = z = 'same'\n",
        "print(x,y,z)\n",
        "print (x)\n"
      ],
      "metadata": {
        "colab": {
          "base_uri": "https://localhost:8080/"
        },
        "id": "Y8j0Fm8LYan_",
        "outputId": "947d2ac4-4cfb-4323-888c-a5aba80029fd",
        "collapsed": true
      },
      "execution_count": null,
      "outputs": [
        {
          "output_type": "stream",
          "name": "stdout",
          "text": [
            "same same same\n",
            "same\n"
          ]
        }
      ]
    },
    {
      "cell_type": "code",
      "source": [
        "a = 5 ; b = 3.2 ; c = 'hello' #point virgule pour declarer des variables sur la meme ligne#\n",
        "print(a,b,c)\n"
      ],
      "metadata": {
        "colab": {
          "base_uri": "https://localhost:8080/"
        },
        "collapsed": true,
        "id": "y1D2kftfJA8v",
        "outputId": "00234b65-3d35-4e36-af87-739ed3806f56"
      },
      "execution_count": null,
      "outputs": [
        {
          "output_type": "stream",
          "name": "stdout",
          "text": [
            "5 3.2 hello\n"
          ]
        }
      ]
    },
    {
      "cell_type": "code",
      "source": [
        "#Ask the user for the city that they grow up\n",
        "city = input ('where did you grow up ?')\n",
        "#ask the user for the name of a pet\n",
        "pet =  input ('whats your favorite pet ?')\n",
        "#combine the name of their city and pet and show them their brand name\n",
        "print ('City ' + '' + ' Pet')\n"
      ],
      "metadata": {
        "colab": {
          "base_uri": "https://localhost:8080/"
        },
        "collapsed": true,
        "id": "cKVbVm4mKay-",
        "outputId": "c6de26f0-c7fc-4341-a400-956ccf97c3f6"
      },
      "execution_count": null,
      "outputs": [
        {
          "output_type": "stream",
          "name": "stdout",
          "text": [
            "where did you grow up ?\n",
            "whats your favorite pet ?\n",
            "City  Pet\n"
          ]
        }
      ]
    },
    {
      "cell_type": "markdown",
      "source": [
        "**Convertion des types int string boolean float**"
      ],
      "metadata": {
        "id": "3EXeu8DONS6s"
      }
    },
    {
      "cell_type": "code",
      "source": [
        "print (float(5), type(float(5)))  # convertion de int vers float\n",
        "print (str(5), type(str(5)))      # convertion de int vers str\n",
        "print (bool(5), type(bool(5)))    # convertion de int vers boolean\n",
        "print (bool(0), type(bool(0)))    # convertion de int = 0 vers boolean donne false\n",
        "\n",
        "print (int(5.5), type(int(5.5)))  # convertion de float vers int\n",
        "print (str(5.5), type(str(5.5)))  # convertion de float vers str\n",
        "print (bool(5.5), type(bool(5.5)))  # convertion de float vers bool\n",
        "\n",
        "print (int(True), type(int(True)))  # convertion de bool vers int\n",
        "print (float(True), type(float(True)))  # convertion de Bool vers Float\n",
        "print (str(True), type(str(True)))  # convertion de bool vers str\n",
        "\n",
        "# print (int('Hello'), type(int('Hello'))) # convertion impossible de str vers int\n",
        "print (float('55'), type(float('55')))  # convertion de str vers float possible avec des chiffres entre guillemets\n",
        "print (bool('Bonjour'), type(bool('Bonjour')))  # Conversion de str vers bool\n",
        "# print (float('Hello'), type(float('Hello')))  # convertion de str vers float impossible\n",
        "print (int('55'), type(int('55')))  # convertion de str vers int possible avec des chiffres entre guillemets\n"
      ],
      "metadata": {
        "colab": {
          "base_uri": "https://localhost:8080/"
        },
        "collapsed": true,
        "id": "eUuSgpPbMga2",
        "outputId": "4e18e64c-adbe-47cb-bf39-dec6b7cec18f"
      },
      "execution_count": null,
      "outputs": [
        {
          "output_type": "stream",
          "name": "stdout",
          "text": [
            "5.0 <class 'float'>\n",
            "5 <class 'str'>\n",
            "True <class 'bool'>\n",
            "False <class 'bool'>\n",
            "5 <class 'int'>\n",
            "5.5 <class 'str'>\n",
            "True <class 'bool'>\n",
            "1 <class 'int'>\n",
            "1.0 <class 'float'>\n",
            "True <class 'str'>\n",
            "55.0 <class 'float'>\n",
            "True <class 'bool'>\n",
            "55 <class 'int'>\n"
          ]
        }
      ]
    },
    {
      "cell_type": "markdown",
      "source": [],
      "metadata": {
        "id": "wQPbDIwSKagh"
      }
    },
    {
      "cell_type": "code",
      "source": [
        "Mynumber = 5    # convertion directement sur les variables\n",
        "print (Mynumber, type(Mynumber))\n",
        "Mynumber = float (Mynumber)\n",
        "print (Mynumber, type(Mynumber))\n",
        "Mynumber = str (Mynumber)\n",
        "print (Mynumber, type(Mynumber))\n",
        "Mynumber = bool (Mynumber)\n",
        "print (Mynumber, type(Mynumber))\n"
      ],
      "metadata": {
        "colab": {
          "base_uri": "https://localhost:8080/"
        },
        "collapsed": true,
        "id": "bioQ9quhT11L",
        "outputId": "42308e1c-616e-4239-b0dd-a6b9f58a054c"
      },
      "execution_count": null,
      "outputs": [
        {
          "output_type": "stream",
          "name": "stdout",
          "text": [
            "5 <class 'int'>\n",
            "5.0 <class 'float'>\n",
            "5.0 <class 'str'>\n",
            "True <class 'bool'>\n"
          ]
        }
      ]
    },
    {
      "cell_type": "markdown",
      "source": [
        "**Cas de False pour Boolean**"
      ],
      "metadata": {
        "id": "vZxSjhYLW8sz"
      }
    },
    {
      "cell_type": "code",
      "source": [
        "x = None\n",
        "print (bool(x), type(bool(x)) )\n",
        "x = False\n",
        "print (bool(x), type(bool(x)) )\n",
        "x = 0.0\n",
        "print (bool(x), type(bool(x)) )\n",
        "x= []                            #liste\n",
        "print (bool(x), type(bool(x)) )\n",
        "x={}                             # disctionnaire\n",
        "print (bool(x), type(bool(x)) )\n",
        "x=()                             # sequence\n",
        "print (bool(x), type(bool(x)) )\n",
        "\n",
        "\n"
      ],
      "metadata": {
        "colab": {
          "base_uri": "https://localhost:8080/"
        },
        "collapsed": true,
        "id": "iJKEWiVTU5NF",
        "outputId": "eed99571-8286-4e13-ab1f-e0a7efeb3bd9"
      },
      "execution_count": null,
      "outputs": [
        {
          "output_type": "stream",
          "name": "stdout",
          "text": [
            "False <class 'bool'>\n",
            "False <class 'bool'>\n",
            "False <class 'bool'>\n",
            "False <class 'bool'>\n",
            "False <class 'bool'>\n",
            "False <class 'bool'>\n"
          ]
        }
      ]
    },
    {
      "cell_type": "markdown",
      "source": [
        "Somme de deux str (en **convertion**) **texte en gras**"
      ],
      "metadata": {
        "id": "mUh8QXn5Zt3t"
      }
    },
    {
      "cell_type": "code",
      "source": [
        "#ask the user to enter two numbers\n",
        "#convert the inputs to integer and add them together\n",
        "Number1 = input('Enter the first number')\n",
        "Number2 = input('Enter the second number')\n",
        "Sum_Numbers = int (Number1) + int (Number2)\n",
        "print ('The sum of the two numbers is  ' ,  Sum_Numbers)\n",
        "\n",
        "\n",
        "\n"
      ],
      "metadata": {
        "colab": {
          "base_uri": "https://localhost:8080/"
        },
        "id": "569PQMSZXfyL",
        "outputId": "817f6b30-caf6-4f2e-a88e-fe565774d29a"
      },
      "execution_count": null,
      "outputs": [
        {
          "output_type": "stream",
          "name": "stdout",
          "text": [
            "Enter the first number8\n",
            "Enter the second number12\n",
            "The sum of the two numbers is   20\n"
          ]
        }
      ]
    },
    {
      "cell_type": "code",
      "source": [
        "mystring = 'Welcome to Python'\n",
        "# print (Mystring)  donne une erreur\n",
        "mystring[9]  # renvoie le caractere num 9\n",
        "len(mystring) # longueur de la phrase 0 compris\n",
        "\n",
        "\n",
        "\n",
        "\n",
        "\n",
        "\n"
      ],
      "metadata": {
        "colab": {
          "base_uri": "https://localhost:8080/"
        },
        "id": "KImcjbWxZ06T",
        "outputId": "18b470fb-9560-420c-c175-d2076e5e5541"
      },
      "execution_count": null,
      "outputs": [
        {
          "output_type": "execute_result",
          "data": {
            "text/plain": [
              "17"
            ]
          },
          "metadata": {},
          "execution_count": 60
        }
      ]
    },
    {
      "cell_type": "markdown",
      "source": [
        "**Arithmetic operation**"
      ],
      "metadata": {
        "id": "ML1RssXQcLna"
      }
    },
    {
      "cell_type": "code",
      "source": [
        "print ('Addition', 2+20.45)\n",
        "print ('Sustraction', 5-2)\n",
        "print ('Multiplication', 7*8)\n",
        "print ('Division', 70/8)\n",
        "print ('Modulus', 6%4) # reste de la division\n",
        "print ('Floor Division', 70 // 8) # resultat sans la virgule\n",
        "print ('Exponentiation', 7**2) # exponentiel\n"
      ],
      "metadata": {
        "colab": {
          "base_uri": "https://localhost:8080/"
        },
        "id": "XJcwCcz3cK_S",
        "outputId": "e355fe15-c8da-4331-8f3c-596801d51bb9"
      },
      "execution_count": null,
      "outputs": [
        {
          "output_type": "stream",
          "name": "stdout",
          "text": [
            "Addition 22.45\n",
            "Sustraction 3\n",
            "Multiplication 56\n",
            "Division 8.75\n",
            "Modulus 2\n",
            "Floor Division 8\n",
            "Exponentiation 49\n"
          ]
        }
      ]
    },
    {
      "cell_type": "markdown",
      "source": [
        "**Multi line statment**"
      ],
      "metadata": {
        "id": "PTsqeezRd-V0"
      }
    },
    {
      "cell_type": "markdown",
      "source": [],
      "metadata": {
        "id": "gXjtb-ScX_Dm"
      }
    },
    {
      "cell_type": "code",
      "source": [
        "a = 5+7+10+4+12\n",
        "a = 5 + 7 + \\\n",
        "10 + 4 + \\\n",
        "12\n",
        "a = (5 + 7 +\n",
        "10 + 4 +\n",
        "12)\n"
      ],
      "metadata": {
        "colab": {
          "base_uri": "https://localhost:8080/"
        },
        "id": "x5KyAT_KeHFQ",
        "outputId": "90ea34df-ad8a-4b5d-fda0-79fa456dac16"
      },
      "execution_count": null,
      "outputs": [
        {
          "output_type": "execute_result",
          "data": {
            "text/plain": [
              "38"
            ]
          },
          "metadata": {},
          "execution_count": 80
        }
      ]
    },
    {
      "cell_type": "markdown",
      "source": [
        "## **Logical operator **"
      ],
      "metadata": {
        "id": "HKnRjjKqflFd"
      }
    },
    {
      "cell_type": "code",
      "source": [
        "x=2\n",
        "y=4\n",
        "#x=y # affecte valeur de y a x\n",
        "print (x==y)  # donne un resultat si vrai ou faux\n",
        "print (x!=y)\n",
        "print (x<y)\n",
        "print (x>y)\n",
        "print (x<=y)\n",
        "print (x>=y)\n"
      ],
      "metadata": {
        "colab": {
          "base_uri": "https://localhost:8080/"
        },
        "id": "dlmHKl8sfuHk",
        "outputId": "0fb25ede-d821-4287-ca26-2759669d0f22"
      },
      "execution_count": null,
      "outputs": [
        {
          "output_type": "stream",
          "name": "stdout",
          "text": [
            "False\n",
            "True\n",
            "True\n",
            "False\n",
            "True\n",
            "False\n"
          ]
        }
      ]
    },
    {
      "cell_type": "code",
      "source": [
        "x = 'apple'\n",
        "y = 'banana'\n",
        "print (x==y)\n",
        "print (x!=y)\n",
        "print (x<y)\n",
        "print (x>y)\n",
        "print (x<=y)\n",
        "print (x>=y)"
      ],
      "metadata": {
        "colab": {
          "base_uri": "https://localhost:8080/"
        },
        "id": "s42Nh_LGSKJI",
        "outputId": "c393b3f2-3dcf-4696-8c25-65872075f45a"
      },
      "execution_count": null,
      "outputs": [
        {
          "output_type": "stream",
          "name": "stdout",
          "text": [
            "False\n",
            "True\n",
            "True\n",
            "False\n",
            "True\n",
            "False\n"
          ]
        }
      ]
    },
    {
      "cell_type": "markdown",
      "source": [
        "AND OR NOT tables de verite"
      ],
      "metadata": {
        "id": "tQBKaQaGUw23"
      }
    },
    {
      "cell_type": "code",
      "source": [
        "x = 8\n",
        "print (x < 5 and x < 10)\n",
        "print (x < 5 or x < 10)\n",
        "print (not(x < 5 or x < 10))\n",
        "print (not(x < 5 and x < 10))\n",
        "print (not x < 5 and x < 10)\n",
        "print (not x < 5 or x < 10)\n",
        "print(not not x)\n",
        "#Bitwise operator\n",
        "print (x < 5 & x < 10)\n",
        "print (x < 5 | x < 10)\n"
      ],
      "metadata": {
        "colab": {
          "base_uri": "https://localhost:8080/"
        },
        "collapsed": true,
        "id": "um1cVzBSUvU0",
        "outputId": "972847e1-daed-434b-9a52-eeedd94c20e3"
      },
      "execution_count": null,
      "outputs": [
        {
          "output_type": "stream",
          "name": "stdout",
          "text": [
            "False\n",
            "True\n",
            "False\n",
            "True\n",
            "True\n",
            "True\n",
            "True\n",
            "False\n",
            "False\n"
          ]
        }
      ]
    },
    {
      "cell_type": "code",
      "source": [
        "#check if a is greater than 10 and (b is less than 30 or c is equal to 5)\n",
        "a = 15\n",
        "b = 25\n",
        "c = 5\n",
        "result = (a>10) and (b<30) or (c==5)\n",
        "print (result)"
      ],
      "metadata": {
        "colab": {
          "base_uri": "https://localhost:8080/"
        },
        "id": "EKh4XnQBZwPA",
        "outputId": "232279a7-301c-43cc-f2ed-0f522487b1ec"
      },
      "execution_count": null,
      "outputs": [
        {
          "output_type": "stream",
          "name": "stdout",
          "text": [
            "True\n"
          ]
        }
      ]
    },
    {
      "cell_type": "markdown",
      "source": [],
      "metadata": {
        "id": "OjIr2GEcbDTN"
      }
    },
    {
      "cell_type": "code",
      "source": [
        "k = [1,2]\n",
        "x = 3\n",
        "print(x in k)\n",
        "print(x not in k)\n",
        "txt = 'Python is free'\n",
        "print ('free' in txt)\n",
        "print ('p' in txt)\n",
        "print ('z' in txt)\n",
        "print ('y' in txt)"
      ],
      "metadata": {
        "colab": {
          "base_uri": "https://localhost:8080/"
        },
        "collapsed": true,
        "id": "xvjWjmqKatl1",
        "outputId": "5bf5166c-e3ea-4b1a-f186-ac024fccabdf"
      },
      "execution_count": null,
      "outputs": [
        {
          "output_type": "stream",
          "name": "stdout",
          "text": [
            "False\n",
            "True\n",
            "True\n",
            "False\n",
            "False\n",
            "True\n"
          ]
        }
      ]
    },
    {
      "cell_type": "code",
      "source": [
        "print(8/3)\n",
        "print(8//3)        # donne le resultat int\n",
        "print(round(8/3))  #arrondi\n",
        "print(4+5+6)\n",
        "\n",
        "\n",
        "result =4+2\n",
        "print (result)\n",
        "result = result + 2\n",
        "result +=2   # abreviation de result = result + 2\n",
        "print (result)\n",
        "result -=2   # abreviation de result = result - 2\n",
        "print (result)\n",
        "result *=2   # abreviation de result = result * 2\n",
        "print (result)\n",
        "result /=5   # abreviation de result = result / 5\n",
        "print (result)\n",
        "\n",
        "print (round(result))\n"
      ],
      "metadata": {
        "colab": {
          "base_uri": "https://localhost:8080/"
        },
        "collapsed": true,
        "id": "q6y5GRmPateY",
        "outputId": "9e6ae43f-5a1b-46c7-fd78-4f14d1b78826"
      },
      "execution_count": null,
      "outputs": [
        {
          "output_type": "stream",
          "name": "stdout",
          "text": [
            "2.6666666666666665\n",
            "2\n",
            "3\n",
            "15\n",
            "6\n",
            "10\n",
            "8\n",
            "16\n",
            "3.2\n",
            "3\n"
          ]
        }
      ]
    },
    {
      "cell_type": "code",
      "source": [
        "score = 15\n",
        "print ('your score is ', score )\n",
        "print ('your score is ' + str(score) ) # conversion en str\n",
        "# F-string\n",
        "print (f'your score is {score}')  # avec cette fonction, vous pouvez abreger l^ecriture"
      ],
      "metadata": {
        "colab": {
          "base_uri": "https://localhost:8080/"
        },
        "id": "E8niHMK0drY9",
        "outputId": "e7aeea7c-d17f-44e5-afbd-b78349051db6"
      },
      "execution_count": null,
      "outputs": [
        {
          "output_type": "stream",
          "name": "stdout",
          "text": [
            "your score is  15\n",
            "your score is 15\n",
            "your score is 15\n"
          ]
        }
      ]
    },
    {
      "cell_type": "code",
      "source": [
        "age = 47\n",
        "age_futur = 90\n",
        "reste_a_vivre = age_futur - age\n",
        "\n",
        "reste_a_vivre_mois = reste_a_vivre * 12\n",
        "reste_a_vivre_semaines = reste_a_vivre * 52\n",
        "reste_a_vivre_jours = reste_a_vivre * 365\n",
        "\n",
        "print(f\"Il vous reste {reste_a_vivre} ans à vivre jusqu'à {age_futur} ans.\")\n",
        "print(f\"Ce qui équivaut à environ {reste_a_vivre_mois} mois.\")\n",
        "print(f\"Ou environ {reste_a_vivre_semaines} semaines.\")\n",
        "print(f\"Ou environ {reste_a_vivre_jours} jours.\")\n"
      ],
      "metadata": {
        "id": "ARk2TRjbeza8",
        "colab": {
          "base_uri": "https://localhost:8080/"
        },
        "outputId": "4413adbf-cc0c-47f3-f494-cb54b78d161a"
      },
      "execution_count": 52,
      "outputs": [
        {
          "output_type": "stream",
          "name": "stdout",
          "text": [
            "Il vous reste 43 ans à vivre jusqu'à 90 ans.\n",
            "Ce qui équivaut à environ 516 mois.\n",
            "Ou environ 2236 semaines.\n",
            "Ou environ 15695 jours.\n"
          ]
        }
      ]
    },
    {
      "cell_type": "code",
      "source": [
        "two_digit_number = input ('enter the number')   # entrer un chiffre\n",
        "print (two_digit_number)                        # affichage du chiffre entre\n",
        "print (type(two_digit_number))                  # afficher type du chiffre\n",
        "First_digit_number = two_digit_number[0]\n",
        "second_digit_number = two_digit_number[1]\n",
        "print (type(First_digit_number))\n",
        "print (type(second_digit_number))\n",
        "\n",
        "print (First_digit_number)\n",
        "print (second_digit_number)\n",
        "\n",
        "result = First_digit_number + second_digit_number\n",
        "print (result)\n",
        "First_digit_number = int(First_digit_number)\n",
        "second_digit_number = int(second_digit_number)\n",
        "result = First_digit_number + second_digit_number\n",
        "print (result)\n",
        "\n",
        "\n"
      ],
      "metadata": {
        "colab": {
          "base_uri": "https://localhost:8080/"
        },
        "id": "Gn86BckKlJz9",
        "outputId": "de21f580-354b-44f7-f57a-4d7ba7af847c"
      },
      "execution_count": 61,
      "outputs": [
        {
          "output_type": "stream",
          "name": "stdout",
          "text": [
            "enter the number39\n",
            "39\n",
            "<class 'str'>\n",
            "<class 'str'>\n",
            "<class 'str'>\n",
            "3\n",
            "9\n",
            "39\n",
            "12\n"
          ]
        }
      ]
    },
    {
      "cell_type": "code",
      "source": [
        "a = 'Hello, World, !'\n",
        "print(a.upper())\n",
        "print(a.lower())\n",
        "print(a.strip()) # supprimme lespace avant et apres les string\n",
        "print(a.replace('l', 'J')) # remplace tous les l en J\n",
        "print(a.split(',')) # liste de mots selon le separateur\n",
        "print(a.find('o'))\n"
      ],
      "metadata": {
        "colab": {
          "base_uri": "https://localhost:8080/"
        },
        "collapsed": true,
        "id": "GrmMsxo5oc-5",
        "outputId": "48379ced-a350-44a2-eaef-b39c529c3ae7"
      },
      "execution_count": 77,
      "outputs": [
        {
          "output_type": "stream",
          "name": "stdout",
          "text": [
            "HELLO, WORLD, !\n",
            "hello, world, !\n",
            "Hello, World, !\n",
            "HeJJo, WorJd, !\n",
            "['Hello', ' World', ' !']\n",
            "4\n"
          ]
        }
      ]
    },
    {
      "cell_type": "code",
      "source": [
        "txt = \"Hello \\\"world of Python\\\"\" # pour garder les guillemets \\ pour chaque guillemet\n",
        "print (txt)"
      ],
      "metadata": {
        "colab": {
          "base_uri": "https://localhost:8080/"
        },
        "id": "bmpgDypxsHSJ",
        "outputId": "1fac220d-9cce-4207-f1e3-73e8fb034a50"
      },
      "execution_count": 76,
      "outputs": [
        {
          "output_type": "stream",
          "name": "stdout",
          "text": [
            "Hello \"world of Python\"\n"
          ]
        }
      ]
    }
  ]
}