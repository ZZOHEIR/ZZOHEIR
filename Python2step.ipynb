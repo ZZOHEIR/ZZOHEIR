{
  "nbformat": 4,
  "nbformat_minor": 0,
  "metadata": {
    "colab": {
      "provenance": [],
      "authorship_tag": "ABX9TyOTcoZ3weGhP1puCYlJjmQg",
      "include_colab_link": true
    },
    "kernelspec": {
      "name": "python3",
      "display_name": "Python 3"
    },
    "language_info": {
      "name": "python"
    }
  },
  "cells": [
    {
      "cell_type": "markdown",
      "metadata": {
        "id": "view-in-github",
        "colab_type": "text"
      },
      "source": [
        "<a href=\"https://colab.research.google.com/github/ZZOHEIR/ZZOHEIR/blob/main/Python2step.ipynb\" target=\"_parent\"><img src=\"https://colab.research.google.com/assets/colab-badge.svg\" alt=\"Open In Colab\"/></a>"
      ]
    },
    {
      "cell_type": "code",
      "execution_count": null,
      "metadata": {
        "colab": {
          "base_uri": "https://localhost:8080/"
        },
        "id": "MVJvUGBSFOXW",
        "outputId": "bf25ed16-037a-48ab-c5ac-26c8f76a169f"
      },
      "outputs": [
        {
          "output_type": "stream",
          "name": "stdout",
          "text": [
            "5\n",
            "<class 'int'>\n",
            "<class 'bool'>\n"
          ]
        }
      ],
      "source": [
        "x = 5\n",
        "print (x)\n",
        "print (type(x))\n",
        "print(type (y))\n",
        "y= True"
      ]
    },
    {
      "cell_type": "markdown",
      "source": [
        "**Multiple Values to multiple variables**\n"
      ],
      "metadata": {
        "id": "HYEthhVcXjxX"
      }
    },
    {
      "cell_type": "code",
      "source": [
        "a = 5\n",
        "b = 3.2\n",
        "c = 'hello'\n",
        "print (a)\n",
        "print (b)\n",
        "print (c)"
      ],
      "metadata": {
        "colab": {
          "base_uri": "https://localhost:8080/"
        },
        "id": "tDed73vQXibH",
        "outputId": "98a0706b-3f9c-4422-c0a4-a4d6bf5dffe4"
      },
      "execution_count": null,
      "outputs": [
        {
          "output_type": "stream",
          "name": "stdout",
          "text": [
            "5\n",
            "3.2\n",
            "hello\n"
          ]
        }
      ]
    },
    {
      "cell_type": "code",
      "source": [
        "a, b, c = 5, 3.2, 'hello'\n",
        "print (a, b, c)"
      ],
      "metadata": {
        "colab": {
          "base_uri": "https://localhost:8080/"
        },
        "id": "U6b9eTTNX62k",
        "outputId": "69f6f347-ad99-46ca-aea3-21895d6d4f76"
      },
      "execution_count": null,
      "outputs": [
        {
          "output_type": "stream",
          "name": "stdout",
          "text": [
            "5 3.2 hello\n"
          ]
        }
      ]
    },
    {
      "cell_type": "code",
      "source": [
        "x = y = z = 'same'\n",
        "print(x,y,z)\n",
        "print (x)\n"
      ],
      "metadata": {
        "colab": {
          "base_uri": "https://localhost:8080/"
        },
        "id": "Y8j0Fm8LYan_",
        "outputId": "947d2ac4-4cfb-4323-888c-a5aba80029fd",
        "collapsed": true
      },
      "execution_count": null,
      "outputs": [
        {
          "output_type": "stream",
          "name": "stdout",
          "text": [
            "same same same\n",
            "same\n"
          ]
        }
      ]
    },
    {
      "cell_type": "code",
      "source": [
        "a = 5 ; b = 3.2 ; c = 'hello' #point virgule pour declarer des variables sur la meme ligne#\n",
        "print(a,b,c)\n"
      ],
      "metadata": {
        "colab": {
          "base_uri": "https://localhost:8080/"
        },
        "collapsed": true,
        "id": "y1D2kftfJA8v",
        "outputId": "00234b65-3d35-4e36-af87-739ed3806f56"
      },
      "execution_count": 5,
      "outputs": [
        {
          "output_type": "stream",
          "name": "stdout",
          "text": [
            "5 3.2 hello\n"
          ]
        }
      ]
    },
    {
      "cell_type": "code",
      "source": [
        "#Ask the user for the city that they grow up\n",
        "city = input ('where did you grow up ?')\n",
        "#ask the user for the name of a pet\n",
        "pet =  input ('whats your favorite pet ?')\n",
        "#combine the name of their city and pet and show them their brand name\n",
        "print ('City ' + '' + ' Pet')\n"
      ],
      "metadata": {
        "colab": {
          "base_uri": "https://localhost:8080/"
        },
        "collapsed": true,
        "id": "cKVbVm4mKay-",
        "outputId": "c6de26f0-c7fc-4341-a400-956ccf97c3f6"
      },
      "execution_count": 9,
      "outputs": [
        {
          "output_type": "stream",
          "name": "stdout",
          "text": [
            "where did you grow up ?\n",
            "whats your favorite pet ?\n",
            "City  Pet\n"
          ]
        }
      ]
    },
    {
      "cell_type": "markdown",
      "source": [
        "**Convertion des types int string boolean float**"
      ],
      "metadata": {
        "id": "3EXeu8DONS6s"
      }
    },
    {
      "cell_type": "code",
      "source": [
        "print (float(5), type(float(5)))  # convertion de int vers float\n",
        "print (str(5), type(str(5)))      # convertion de int vers str\n",
        "print (bool(5), type(bool(5)))    # convertion de int vers boolean\n",
        "print (bool(0), type(bool(0)))    # convertion de int = 0 vers boolean donne false\n",
        "\n",
        "print (int(5.5), type(int(5.5)))  # convertion de float vers int\n",
        "print (str(5.5), type(str(5.5)))  # convertion de float vers str\n",
        "print (bool(5.5), type(bool(5.5)))  # convertion de float vers bool\n",
        "\n",
        "print (int(True), type(int(True)))  # convertion de bool vers int\n",
        "print (float(True), type(float(True)))  # convertion de Bool vers Float\n",
        "print (str(True), type(str(True)))  # convertion de bool vers str\n",
        "\n",
        "# print (int('Hello'), type(int('Hello'))) # convertion impossible de str vers int\n",
        "print (float('55'), type(float('55')))  # convertion de str vers float possible avec des chiffres entre guillemets\n",
        "print (bool('Bonjour'), type(bool('Bonjour')))  # Conversion de str vers bool\n",
        "# print (float('Hello'), type(float('Hello')))  # convertion de str vers float impossible\n",
        "print (int('55'), type(int('55')))  # convertion de str vers int possible avec des chiffres entre guillemets\n"
      ],
      "metadata": {
        "colab": {
          "base_uri": "https://localhost:8080/"
        },
        "collapsed": true,
        "id": "eUuSgpPbMga2",
        "outputId": "4e18e64c-adbe-47cb-bf39-dec6b7cec18f"
      },
      "execution_count": 37,
      "outputs": [
        {
          "output_type": "stream",
          "name": "stdout",
          "text": [
            "5.0 <class 'float'>\n",
            "5 <class 'str'>\n",
            "True <class 'bool'>\n",
            "False <class 'bool'>\n",
            "5 <class 'int'>\n",
            "5.5 <class 'str'>\n",
            "True <class 'bool'>\n",
            "1 <class 'int'>\n",
            "1.0 <class 'float'>\n",
            "True <class 'str'>\n",
            "55.0 <class 'float'>\n",
            "True <class 'bool'>\n",
            "55 <class 'int'>\n"
          ]
        }
      ]
    },
    {
      "cell_type": "markdown",
      "source": [],
      "metadata": {
        "id": "wQPbDIwSKagh"
      }
    },
    {
      "cell_type": "code",
      "source": [
        "Mynumber = 5    # convertion directement sur les variables\n",
        "print (Mynumber, type(Mynumber))\n",
        "Mynumber = float (Mynumber)\n",
        "print (Mynumber, type(Mynumber))\n",
        "Mynumber = str (Mynumber)\n",
        "print (Mynumber, type(Mynumber))\n",
        "Mynumber = bool (Mynumber)\n",
        "print (Mynumber, type(Mynumber))\n"
      ],
      "metadata": {
        "colab": {
          "base_uri": "https://localhost:8080/"
        },
        "collapsed": true,
        "id": "bioQ9quhT11L",
        "outputId": "42308e1c-616e-4239-b0dd-a6b9f58a054c"
      },
      "execution_count": 34,
      "outputs": [
        {
          "output_type": "stream",
          "name": "stdout",
          "text": [
            "5 <class 'int'>\n",
            "5.0 <class 'float'>\n",
            "5.0 <class 'str'>\n",
            "True <class 'bool'>\n"
          ]
        }
      ]
    },
    {
      "cell_type": "markdown",
      "source": [
        "**Cas de False pour Boolean**"
      ],
      "metadata": {
        "id": "vZxSjhYLW8sz"
      }
    },
    {
      "cell_type": "code",
      "source": [
        "x = None\n",
        "print (bool(x), type(bool(x)) )\n",
        "x = False\n",
        "print (bool(x), type(bool(x)) )\n",
        "x = 0.0\n",
        "print (bool(x), type(bool(x)) )\n",
        "x= []                            #liste\n",
        "print (bool(x), type(bool(x)) )\n",
        "x={}                             # disctionnaire\n",
        "print (bool(x), type(bool(x)) )\n",
        "x=()                             # sequence\n",
        "print (bool(x), type(bool(x)) )\n",
        "\n",
        "\n"
      ],
      "metadata": {
        "colab": {
          "base_uri": "https://localhost:8080/"
        },
        "collapsed": true,
        "id": "iJKEWiVTU5NF",
        "outputId": "eed99571-8286-4e13-ab1f-e0a7efeb3bd9"
      },
      "execution_count": 43,
      "outputs": [
        {
          "output_type": "stream",
          "name": "stdout",
          "text": [
            "False <class 'bool'>\n",
            "False <class 'bool'>\n",
            "False <class 'bool'>\n",
            "False <class 'bool'>\n",
            "False <class 'bool'>\n",
            "False <class 'bool'>\n"
          ]
        }
      ]
    },
    {
      "cell_type": "markdown",
      "source": [
        "Somme de deux str (en **convertion**) **texte en gras**"
      ],
      "metadata": {
        "id": "mUh8QXn5Zt3t"
      }
    },
    {
      "cell_type": "code",
      "source": [
        "#ask the user to enter two numbers\n",
        "#convert the inputs to integer and add them together\n",
        "Number1 = input('Enter the first number')\n",
        "Number2 = input('Enter the second number')\n",
        "Sum_Numbers = int (Number1) + int (Number2)\n",
        "print ('The sum of the two numbers is  ' ,  Sum_Numbers)\n",
        "\n",
        "\n",
        "\n"
      ],
      "metadata": {
        "colab": {
          "base_uri": "https://localhost:8080/"
        },
        "id": "569PQMSZXfyL",
        "outputId": "817f6b30-caf6-4f2e-a88e-fe565774d29a"
      },
      "execution_count": 47,
      "outputs": [
        {
          "output_type": "stream",
          "name": "stdout",
          "text": [
            "Enter the first number8\n",
            "Enter the second number12\n",
            "The sum of the two numbers is   20\n"
          ]
        }
      ]
    },
    {
      "cell_type": "code",
      "source": [
        "mystring = 'Welcome to Python'\n",
        "# print (Mystring)  donne une erreur\n",
        "mystring[9]  # renvoie le caractere num 9\n",
        "len(mystring) # longueur de la phrase 0 compris\n",
        "\n",
        "\n",
        "\n",
        "\n",
        "\n",
        "\n"
      ],
      "metadata": {
        "colab": {
          "base_uri": "https://localhost:8080/"
        },
        "id": "KImcjbWxZ06T",
        "outputId": "18b470fb-9560-420c-c175-d2076e5e5541"
      },
      "execution_count": 60,
      "outputs": [
        {
          "output_type": "execute_result",
          "data": {
            "text/plain": [
              "17"
            ]
          },
          "metadata": {},
          "execution_count": 60
        }
      ]
    },
    {
      "cell_type": "markdown",
      "source": [
        "**Arithmetic operation**"
      ],
      "metadata": {
        "id": "ML1RssXQcLna"
      }
    },
    {
      "cell_type": "code",
      "source": [
        "print ('Addition', 2+20.45)\n",
        "print ('Sustraction', 5-2)\n",
        "print ('Multiplication', 7*8)\n",
        "print ('Division', 70/8)\n",
        "print ('Modulus', 6%4) # reste de la division\n",
        "print ('Floor Division', 70 // 8) # resultat sans la virgule\n",
        "print ('Exponentiation', 7**2) # exponentiel\n"
      ],
      "metadata": {
        "colab": {
          "base_uri": "https://localhost:8080/"
        },
        "id": "XJcwCcz3cK_S",
        "outputId": "e355fe15-c8da-4331-8f3c-596801d51bb9"
      },
      "execution_count": 71,
      "outputs": [
        {
          "output_type": "stream",
          "name": "stdout",
          "text": [
            "Addition 22.45\n",
            "Sustraction 3\n",
            "Multiplication 56\n",
            "Division 8.75\n",
            "Modulus 2\n",
            "Floor Division 8\n",
            "Exponentiation 49\n"
          ]
        }
      ]
    },
    {
      "cell_type": "markdown",
      "source": [
        "**Multi line statment**"
      ],
      "metadata": {
        "id": "PTsqeezRd-V0"
      }
    },
    {
      "cell_type": "markdown",
      "source": [],
      "metadata": {
        "id": "gXjtb-ScX_Dm"
      }
    },
    {
      "cell_type": "code",
      "source": [
        "a = 5+7+10+4+12\n",
        "a = 5 + 7 + \\\n",
        "10 + 4 + \\\n",
        "12\n",
        "a = (5 + 7 +\n",
        "10 + 4 +\n",
        "12)\n"
      ],
      "metadata": {
        "colab": {
          "base_uri": "https://localhost:8080/"
        },
        "id": "x5KyAT_KeHFQ",
        "outputId": "90ea34df-ad8a-4b5d-fda0-79fa456dac16"
      },
      "execution_count": 80,
      "outputs": [
        {
          "output_type": "execute_result",
          "data": {
            "text/plain": [
              "38"
            ]
          },
          "metadata": {},
          "execution_count": 80
        }
      ]
    },
    {
      "cell_type": "markdown",
      "source": [
        "## **Logical operator **"
      ],
      "metadata": {
        "id": "HKnRjjKqflFd"
      }
    },
    {
      "cell_type": "code",
      "source": [
        "x=2\n",
        "y=4\n",
        "#x=y # affecte valeur de y a x\n",
        "print (x==y)  # donne un resultat si vrai ou faux\n",
        "print (x!=y)\n",
        "print (x<y)\n",
        "print (x>y)\n",
        "print (x<=y)\n",
        "print (x>=y)\n"
      ],
      "metadata": {
        "colab": {
          "base_uri": "https://localhost:8080/"
        },
        "id": "dlmHKl8sfuHk",
        "outputId": "0fb25ede-d821-4287-ca26-2759669d0f22"
      },
      "execution_count": 85,
      "outputs": [
        {
          "output_type": "stream",
          "name": "stdout",
          "text": [
            "False\n",
            "True\n",
            "True\n",
            "False\n",
            "True\n",
            "False\n"
          ]
        }
      ]
    }
  ]
}